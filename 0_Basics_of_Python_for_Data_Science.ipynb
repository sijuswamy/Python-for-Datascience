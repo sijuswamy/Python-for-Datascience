{
  "nbformat": 4,
  "nbformat_minor": 0,
  "metadata": {
    "colab": {
      "name": "0-Basics of Python for Data Science.ipynb",
      "provenance": [],
      "collapsed_sections": [],
      "authorship_tag": "ABX9TyOiX3FpkdVm4bJAiXaDbinf",
      "include_colab_link": true
    },
    "kernelspec": {
      "name": "python3",
      "display_name": "Python 3"
    },
    "language_info": {
      "name": "python"
    }
  },
  "cells": [
    {
      "cell_type": "markdown",
      "metadata": {
        "id": "view-in-github",
        "colab_type": "text"
      },
      "source": [
        "<a href=\"https://colab.research.google.com/github/sijuswamy/Python-for-Datascience/blob/main/0_Basics_of_Python_for_Data_Science.ipynb\" target=\"_parent\"><img src=\"https://colab.research.google.com/assets/colab-badge.svg\" alt=\"Open In Colab\"/></a>"
      ]
    },
    {
      "cell_type": "markdown",
      "metadata": {
        "id": "3wHRVRtF6_iw"
      },
      "source": [
        "# **Is Python Necessary in the Data Science Field?**\n",
        "It's possible to work as a data scientist using either Python or R. Each language has its strengths and weaknesses, and both are widely-used in the industry. Python is more popular overall, but R dominates in some industries (particularly in academia and research).\n",
        "\n",
        "To do data science work, you'll definitely need to learn at least one of these two languages. It doesn't have to be Python, but it does have to be one of either Python or R. "
      ]
    },
    {
      "cell_type": "markdown",
      "metadata": {
        "id": "yJBSU2p67WUB"
      },
      "source": [
        "# **Is Python Better than R for Data Science?**\n",
        "\n",
        "This is a constant topic of discussion in data science, but the true answer is that it depends on what you're looking for, and what you like.\n",
        "\n",
        "R was built with statistics and mathematics in mind, and there are amazing packages that make it easy to use for data science. It also has a very supporting online community.\n",
        "\n",
        "Python is a much better language for all-around work, meaning that your Python skills would be more transferrable to other disciplines. It's also slightly more popular, and some would argue that it's the easier of the two to learn (although plenty of R folks would disagree).\n",
        "\n",
        "Rather than reading opinions, check out this more objective article about how Python and R handle similar data science tasks, and see which one looks more approachable to you."
      ]
    },
    {
      "cell_type": "markdown",
      "metadata": {
        "id": "G1pFsw2U6YsM"
      },
      "source": [
        "#**How is Python Used for Data Science?**\n",
        "\n",
        "Programming languages like Python are used at every step in the data science process. For example, a data science project workflow might look something like this:\n",
        "\n",
        "1. Using Python and SQL, you write a query to pull the data you need from your company database.\n",
        "2. Using Python and the pandas library, you clean and sort the data into a dataframe (table) that's ready for analysis.\n",
        "3. Using Python and the pandas and matplotlib libraries, you begin analyzing, exploring, and visualizing the data.\n",
        "4. After learning more about the data through your exploration, you use Python and the scikit-learn library to build a predictive model that forecasts future outcomes for your company based on the data you pulled.\n",
        "5. You arrange your final analysis and your model results into an appropriate format for communicating with your coworkers.\n",
        "\n"
      ]
    },
    {
      "cell_type": "markdown",
      "metadata": {
        "id": "NyswmzuO7RIQ"
      },
      "source": [
        "# Steps in Data analysis\n",
        "\n",
        "![](https://learn.g2crowd.com/hubfs/data-analysis-process.png)"
      ]
    },
    {
      "cell_type": "markdown",
      "metadata": {
        "id": "5wVq_ldfBdKt"
      },
      "source": [
        "# Step 1: Define why you need data analysis\n",
        "\n",
        "Before getting into the nitty-gritty of data analysis, a business will need to define why they’re seeking one in the first place. This need typically stems from a business problem or question. Some examples include:\n",
        "\n",
        "* How can we reduce production costs without sacrificing quality?\n",
        "* What are some ways to increase sales opportunities with our current resources?\n",
        "* Do customers view our brand in a favorable way?\n",
        ">In addition to finding a purpose, consider which metrics to track along the way. Also, be sure to identify sources of data when it comes time to collect."
      ]
    },
    {
      "cell_type": "markdown",
      "metadata": {
        "id": "P9Pq3hReCJIZ"
      },
      "source": [
        "## Step 2: Data collection\n",
        "\n",
        "![](https://learn.g2crowd.com/hubfs/Screen%20Shot%202019-03-12%20at%2011.03.23%20AM.png)\n"
      ]
    },
    {
      "cell_type": "markdown",
      "metadata": {
        "id": "N8gU-prYCbk3"
      },
      "source": [
        "## Step 3: Data cleaning\n",
        "\n",
        "To generate accurate results, data scientists must identify and purge duplicate data, anomalous data, and other inconsistencies that could skew the analysis. \n",
        "\n",
        "![](https://learn.g2crowd.com/hubfs/what-do-data-scientists-do.png)"
      ]
    },
    {
      "cell_type": "markdown",
      "metadata": {
        "id": "fMBQL00LCvnW"
      },
      "source": [
        "## Step 4: Data analysis\n",
        "One of the last steps in the data analysis process is, you guessed it, analyzing and manipulating the data. This can be done in a variety of ways.\n",
        "\n",
        "One way is through **data mining**, which is defined as “knowledge discovery within databases.” Data mining techniques like clustering analysis, anomaly detection, association rule mining, and others could unveil hidden patterns in data that weren’t previously visible.\n",
        "\n",
        "There’s also **business intelligence and data visualization software**, both of which are optimized for decision-makers and business users. These options generate easy-to-understand reports, dashboards, scorecards, and charts.\n",
        "\n",
        "Data scientists may also apply **predictive analytics**, which makes up one of four types of data analytics used today. Predictive analyses look ahead to the future, attempting to forecast what is likely to happen next with a business problem or question."
      ]
    },
    {
      "cell_type": "markdown",
      "metadata": {
        "id": "0o-ltkg_DRAj"
      },
      "source": [
        "What Types of Data Analysis are There?\n",
        "\n",
        "There are five types of data analysis\n",
        "\n",
        "1. **Diagnostic Analysis**: Diagnostic analysis answers the question, “Why did this happen?” Using insights gained from statistical analysis (more on that later!), analysts use diagnostic analysis to identify patterns in data.\n",
        "\n",
        "2. **Predictive Analysis**: Predictive analysis answers the question, “What is most likely to happen?” By using patterns found in older data as well as current events, analysts predict future events.\n",
        "\n",
        "3. **Prescriptive Analysis**: Mix all the insights gained from the other data analysis types, and you have prescriptive analysis. Sometimes, an issue can’t be solved solely with one analysis type, and instead requires multiple insights.\n",
        "\n",
        "4. **Statistical Analysis**: Statistical analysis answers the question, “What happened?” This analysis covers data collection, analysis, modeling, interpretation, and presentation using dashboards. The statistical analysis breaks down into two sub-categories:\n",
        "\n",
        "  a. *Descriptive*: Descriptive analysis works with either complete or selections of summarized numerical data. It illustrates means and deviations in continuous data and percentages and frequencies in categorical data.\n",
        "\n",
        "  b. *Inferential*: Inferential analysis works with samples derived from complete data. An analyst can arrive at different conclusions from the same comprehensive data set just by choosing different samplings.\n",
        "5. **Text Analysis**: Also called “data mining,” text analysis uses databases and data mining tools to discover patterns residing in large datasets.   "
      ]
    },
    {
      "cell_type": "markdown",
      "metadata": {
        "id": "HSW11RQRDIyh"
      },
      "source": [
        "## Step 5: Interpret the results\n",
        "The final step is interpreting the results from the data analysis. This part is important because it’s how a business will gain actual value from the previous four steps.\n",
        "\n",
        "Interpreting the data analysis should validate why you conducted one in the first place, even if it’s not 100 percent conclusive. For example, “options A and B can be explored and tested to reduce production costs without sacrificing quality.”\n",
        "\n",
        "Analysts and business users should look to collaborate during this process. Also, when interpreting results, consider any challenges or limitations that may have not been present in the data. This will only bolster the confidence in your next steps."
      ]
    },
    {
      "cell_type": "markdown",
      "metadata": {
        "id": "TRYZ0riZLcUp"
      },
      "source": [
        ""
      ]
    }
  ]
}