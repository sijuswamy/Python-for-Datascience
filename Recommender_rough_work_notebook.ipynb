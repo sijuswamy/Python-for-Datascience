{
  "nbformat": 4,
  "nbformat_minor": 0,
  "metadata": {
    "colab": {
      "name": "Recommender_rough_work_notebook.ipynb",
      "provenance": [],
      "authorship_tag": "ABX9TyOvll7HbpeKG8t2xw70RFUv",
      "include_colab_link": true
    },
    "kernelspec": {
      "name": "python3",
      "display_name": "Python 3"
    },
    "language_info": {
      "name": "python"
    }
  },
  "cells": [
    {
      "cell_type": "markdown",
      "metadata": {
        "id": "view-in-github",
        "colab_type": "text"
      },
      "source": [
        "<a href=\"https://colab.research.google.com/github/sijuswamy/Python-for-Datascience/blob/main/Recommender_rough_work_notebook.ipynb\" target=\"_parent\"><img src=\"https://colab.research.google.com/assets/colab-badge.svg\" alt=\"Open In Colab\"/></a>"
      ]
    },
    {
      "cell_type": "markdown",
      "metadata": {
        "id": "4t5d2fPAJ0Sg"
      },
      "source": [
        "## Use the feature vectors for predicting the rating scores\n",
        "\n",
        "Consider the problem with content based rating informations of 4 users for 6 movies. Construct a rating prediction using scalar projection."
      ]
    },
    {
      "cell_type": "markdown",
      "metadata": {
        "id": "txjIwJCw_mHX"
      },
      "source": [
        "$\\begin{array}{|ll|l|r|r|r|r|r|r|}\n",
        "\\hline\n",
        "{}&{}&F1&0.5&0.3&1&0.5&0&1\\\\\n",
        "{}&{}&F2&0.7&0.9&0&0.9&1&0\\\\\n",
        "\\hline\n",
        "F1&F2&{} &    M1 &    M2 &   M3 &    M4 &   M5 &   M6 \\\\\n",
        "\\hline\n",
        "0.9&0.2&U1 &  &   &   &   &  &   \\\\\\hline\n",
        "0.4&0.9&U2 &   &   &   &   &   &   \\\\\\hline\n",
        "0.5&0.3&U3 &   &   &   &   &   &  \\\\\\hline\n",
        "0.2&0.7&U4 &   &   &   &   &   &   \\\\\n",
        "\\hline\n",
        "\\end{array}$"
      ]
    },
    {
      "cell_type": "code",
      "metadata": {
        "id": "spZo1dsL1BQp"
      },
      "source": [
        "import numpy as np\n",
        "import numpy.linalg as la"
      ],
      "execution_count": 1,
      "outputs": []
    },
    {
      "cell_type": "code",
      "metadata": {
        "id": "0R_z_Jwc35R-"
      },
      "source": [
        "MF=np.array([[0.5,0.7],[0.3,0.9],[1,0],[0.5,0.9],[0,1],[1,0]])\n",
        "UT=np.array([[0.9,0.2],[0.4,0.9],[0.5,0.3],[0.2,0.7]])\n",
        "DP=np.dot(UT,MF.T)"
      ],
      "execution_count": 2,
      "outputs": []
    },
    {
      "cell_type": "code",
      "metadata": {
        "colab": {
          "base_uri": "https://localhost:8080/"
        },
        "id": "XHqHeUfa42Ze",
        "outputId": "ff5a6ba3-638e-42b8-9f48-b0786e8cd5ec"
      },
      "source": [
        "print(DP)"
      ],
      "execution_count": 3,
      "outputs": [
        {
          "output_type": "stream",
          "text": [
            "[[0.59 0.45 0.9  0.63 0.2  0.9 ]\n",
            " [0.83 0.93 0.4  1.01 0.9  0.4 ]\n",
            " [0.46 0.42 0.5  0.52 0.3  0.5 ]\n",
            " [0.59 0.69 0.2  0.73 0.7  0.2 ]]\n"
          ],
          "name": "stdout"
        }
      ]
    },
    {
      "cell_type": "markdown",
      "metadata": {
        "id": "oqSPQbqs9opG"
      },
      "source": [
        "$\\begin{array}{|ll|l|r|r|r|r|r|r|}\n",
        "\\hline\n",
        "{}&{}&F1&0.5&0.3&1&0.5&0&1\\\\\n",
        "{}&{}&F2&0.7&0.9&0&0.9&1&0\\\\\n",
        "\\hline\n",
        "F1&F2&{} &    M1 &    M2 &   M3 &    M4 &   M5 &   M6 \\\\\n",
        "\\hline\n",
        "0.9&0.2&U1 &  0.59 &  0.45 &  0.9 &  0.63 &  0.2 &  0.9 \\\\\\hline\n",
        "0.4&0.9&U2 &  0.83 &  0.93 &  0.4 &  1.01 &  0.9 &  0.4 \\\\\\hline\n",
        "0.5&0.3&U3 &  0.46 &  0.42 &  0.5 &  0.52 &  0.3 &  0.5 \\\\\\hline\n",
        "0.2&0.7&U4 &  0.59 &  0.69 &  0.2 &  0.73 &  0.7 &  0.2 \\\\\n",
        "\\hline\n",
        "\\end{array}$"
      ]
    },
    {
      "cell_type": "code",
      "metadata": {
        "colab": {
          "base_uri": "https://localhost:8080/"
        },
        "id": "e7Kylk-T5mjK",
        "outputId": "d9b63231-9d72-41df-9ec6-118bbad623cf"
      },
      "source": [
        "import pandas as pd\n",
        "DP1=pd.DataFrame(DP,columns=[\"M1\",\"M2\",\"M3\",\"M4\",\"M5\",\"M6\"],index=[\"U1\",\"U2\",\"U3\",\"U4\"])\n",
        "print(DP1.to_latex())"
      ],
      "execution_count": 4,
      "outputs": [
        {
          "output_type": "stream",
          "text": [
            "\\begin{tabular}{lrrrrrr}\n",
            "\\toprule\n",
            "{} &    M1 &    M2 &   M3 &    M4 &   M5 &   M6 \\\\\n",
            "\\midrule\n",
            "U1 &  0.59 &  0.45 &  0.9 &  0.63 &  0.2 &  0.9 \\\\\n",
            "U2 &  0.83 &  0.93 &  0.4 &  1.01 &  0.9 &  0.4 \\\\\n",
            "U3 &  0.46 &  0.42 &  0.5 &  0.52 &  0.3 &  0.5 \\\\\n",
            "U4 &  0.59 &  0.69 &  0.2 &  0.73 &  0.7 &  0.2 \\\\\n",
            "\\bottomrule\n",
            "\\end{tabular}\n",
            "\n"
          ],
          "name": "stdout"
        }
      ]
    },
    {
      "cell_type": "markdown",
      "metadata": {
        "id": "1lraTCAi-z8L"
      },
      "source": [
        "$\\begin{array}{lrrrrrr}\n",
        "\\hline\n",
        "{} &    M1 &    M2 &   M3 &    M4 &   M5 &   M6 \\\\\n",
        "\\hline\n",
        "U1 &  0.59 &  0.45 &  0.9 &  0.63 &  0.2 &  0.9 \\\\\n",
        "U2 &  0.83 &  0.93 &  0.4 &  1.01 &  0.9 &  0.4 \\\\\n",
        "U3 &  0.46 &  0.42 &  0.5 &  0.52 &  0.3 &  0.5 \\\\\n",
        "U4 &  0.59 &  0.69 &  0.2 &  0.73 &  0.7 &  0.2 \\\\\n",
        "\\hline\n",
        "\\end{array}$"
      ]
    },
    {
      "cell_type": "markdown",
      "metadata": {
        "id": "y90PQ2Ls63Dc"
      },
      "source": [
        "$\\begin{array}{lrrrrrr}\n",
        "\\hline\n",
        "{} &    M1 &    M2 &   M3 &    M4 &   M5 &   M6 \\\\\n",
        "\\hline\n",
        "U1 &  0.59 &  0.45 &  0.9 &  0.63 &  0.2 &  0.9 \\\\\n",
        "U2 &  0.83 &  0.93 &  0.4 &  1.01 &  0.9 &  0.4 \\\\\n",
        "U3 &  0.46 &  0.42 &  0.5 &  0.52 &  0.3 &  0.5 \\\\\n",
        "U4 &  0.59 &  0.69 &  0.2 &  0.73 &  0.7 &  0.2 \\\\\n",
        "\\hline\n",
        "\\end{array}$"
      ]
    },
    {
      "cell_type": "markdown",
      "metadata": {
        "id": "YqDlA3Yq_QHH"
      },
      "source": [
        "## A samples Prediction Calculation Model for User based Colaborative recommender\n",
        "\n",
        "Consider the data\n",
        "\n",
        "$\\begin{array}{lrrrrr}\n",
        "\\hline\n",
        "{} &    M1 &    M2 &   M3 &    M4 &   M5  \\\\\n",
        "\\hline\n",
        "Alice &  5 &  4 &  1 & 4 & ?  \\\\\n",
        "N1 &  3 &  1 &  2 &  3 &  3  \\\\\n",
        "N2 &  4 &  3 &  4&  3 &  5  \\\\\n",
        "N3 &  3 &  3 &  1 &  5 &  4  \\\\\n",
        "\\hline\n",
        "\\end{array}$\n",
        "\n",
        "Try to predict the rating score for $M5$ by Alice\n"
      ]
    },
    {
      "cell_type": "markdown",
      "metadata": {
        "id": "vaFVt147_nQw"
      },
      "source": [
        "## Rating data"
      ]
    },
    {
      "cell_type": "code",
      "metadata": {
        "id": "FdPd6X7v_ZX_"
      },
      "source": [
        "Alice=np.array([5, 4, 1, 4])\n",
        "N1=np.array([3,1,2,3])\n",
        "N2=np.array([4,3,4,3])\n",
        "N3=np.array([3,3,1,5])"
      ],
      "execution_count": 6,
      "outputs": []
    },
    {
      "cell_type": "markdown",
      "metadata": {
        "id": "vraCTHNEAFsX"
      },
      "source": [
        "## Calulating The Pearson similarity\n",
        "\n",
        "$Sim(U,V)=\\dfrac{\\sum (r_{ui}-\\bar{r_u})(r_{vi}-\\bar{r_v})}{\\sqrt{\\sum (r_{ui}-\\bar{r_u})^2}\\sqrt{\\sum (r_{vi}-\\bar{r_v})^2}}$"
      ]
    },
    {
      "cell_type": "code",
      "metadata": {
        "id": "4sJIY7NoAKB3"
      },
      "source": [
        "mean_rating_Alice=np.mean(Alice)\n",
        "User_means=np.array([np.mean(N1),np.mean(N2),np.mean(N3)])\n",
        "Alice=Alice-np.mean(Alice)\n",
        "N1=N1-np.mean(N1)\n",
        "N2=N2-np.mean(N2)\n",
        "N3=N3-np.mean(N3)"
      ],
      "execution_count": 7,
      "outputs": []
    },
    {
      "cell_type": "code",
      "metadata": {
        "id": "rMLdAjEmAt42"
      },
      "source": [
        "simA_N1=(np.dot(Alice,N1))/((la.norm(Alice))*la.norm(N1))"
      ],
      "execution_count": 9,
      "outputs": []
    },
    {
      "cell_type": "code",
      "metadata": {
        "colab": {
          "base_uri": "https://localhost:8080/"
        },
        "id": "qUvidLrTBVDj",
        "outputId": "30740417-a448-45f0-8289-64144ee881a1"
      },
      "source": [
        "print('Sim(Alice,N1):',simA_N1)"
      ],
      "execution_count": null,
      "outputs": [
        {
          "output_type": "stream",
          "text": [
            "0.30151134457776363\n"
          ],
          "name": "stdout"
        }
      ]
    },
    {
      "cell_type": "code",
      "metadata": {
        "id": "21aj0JnCEDzI"
      },
      "source": [
        "simA_N2=(np.dot(Alice,N2))/((la.norm(Alice))*la.norm(N2))"
      ],
      "execution_count": 11,
      "outputs": []
    },
    {
      "cell_type": "code",
      "metadata": {
        "colab": {
          "base_uri": "https://localhost:8080/"
        },
        "id": "m7BcLZHrEMLo",
        "outputId": "e7d6e278-1f35-4b7e-9bcb-31126e4bad93"
      },
      "source": [
        "print('Sim(Alice,N2):',simA_N2)"
      ],
      "execution_count": null,
      "outputs": [
        {
          "output_type": "stream",
          "text": [
            "Sim(Alice,N2): -0.3333333333333333\n"
          ],
          "name": "stdout"
        }
      ]
    },
    {
      "cell_type": "code",
      "metadata": {
        "id": "ZAdqcy5mEpzg"
      },
      "source": [
        "simA_N3=(np.dot(Alice,N3))/((la.norm(Alice))*la.norm(N3))"
      ],
      "execution_count": 12,
      "outputs": []
    },
    {
      "cell_type": "code",
      "metadata": {
        "colab": {
          "base_uri": "https://localhost:8080/"
        },
        "id": "GyW4UiVcEtQn",
        "outputId": "98288c74-cb6b-40e3-c17b-a0bb198e6ef4"
      },
      "source": [
        "print('Sim(Alice,N3):',simA_N3)"
      ],
      "execution_count": null,
      "outputs": [
        {
          "output_type": "stream",
          "text": [
            "Sim(Alice,N3): 0.7071067811865475\n"
          ],
          "name": "stdout"
        }
      ]
    },
    {
      "cell_type": "markdown",
      "metadata": {
        "id": "tWPlv2PKHKqv"
      },
      "source": [
        "## Calculation of Rating for $M5$ by Alice.\n",
        "\n",
        "\\begin{equation*}\n",
        "        P(Alice,M5)=\\bar{r}_{Alice}+\\dfrac{\\sum\\limits_{i}sim(Alice,N_i)\\left(r(N_i,M5)-\\bar{r}_{N_i}\\right)}{\\sum\\limits_{i}|sim(Alice,N_i)|}\n",
        "    \\end{equation*}"
      ]
    },
    {
      "cell_type": "code",
      "metadata": {
        "id": "YYc_0UWxE8fQ"
      },
      "source": [
        "RM5=np.array([3,5,4])\n",
        "simarray=np.array([simA_N1,simA_N2,simA_N3])\n",
        "meandiff=RM5-User_means\n",
        "RUserF=np.dot(simarray,meandiff)/np.sum(abs(simarray))"
      ],
      "execution_count": 13,
      "outputs": []
    },
    {
      "cell_type": "code",
      "metadata": {
        "colab": {
          "base_uri": "https://localhost:8080/"
        },
        "id": "PqED0A8qEznf",
        "outputId": "273997e1-577b-4c33-b68a-7d9273195d02"
      },
      "source": [
        "r_alice_M5=mean_rating_Alice+RUserF\n",
        "print('Rating for Movie 5 by Alice is:',r_alice_M5)"
      ],
      "execution_count": 14,
      "outputs": [
        {
          "output_type": "stream",
          "text": [
            "Rating for Movie 5 by Alice is: 3.8228434878793527\n"
          ],
          "name": "stdout"
        }
      ]
    },
    {
      "cell_type": "markdown",
      "metadata": {
        "id": "nmQpHQXqNg7v"
      },
      "source": [
        "## Eigen values\n"
      ]
    },
    {
      "cell_type": "code",
      "metadata": {
        "id": "kC5ugLwjNn5_"
      },
      "source": [
        "import numpy as np\n",
        "import numpy.linalg as la"
      ],
      "execution_count": null,
      "outputs": []
    },
    {
      "cell_type": "code",
      "metadata": {
        "colab": {
          "base_uri": "https://localhost:8080/"
        },
        "id": "BvE5a7SgN5Q_",
        "outputId": "0892bdcb-7d45-42ec-db0a-13e620e7f3a8"
      },
      "source": [
        "A=np.array([[1 ,2, 4],[2,5,6],[1,9,7]])\n",
        "ev,eval=la.eig(A)\n",
        "ev\n"
      ],
      "execution_count": null,
      "outputs": [
        {
          "output_type": "execute_result",
          "data": {
            "text/plain": [
              "array([14.14537808+0.j        , -0.57268904+0.93479048j,\n",
              "       -0.57268904-0.93479048j])"
            ]
          },
          "metadata": {
            "tags": []
          },
          "execution_count": 9
        }
      ]
    }
  ]
}