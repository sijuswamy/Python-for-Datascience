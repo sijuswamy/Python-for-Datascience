{
  "nbformat": 4,
  "nbformat_minor": 0,
  "metadata": {
    "colab": {
      "name": "1-Numpy_Basics.ipynb",
      "provenance": [],
      "collapsed_sections": [],
      "authorship_tag": "ABX9TyOGETgZH1uKdpfiqYsmviWb",
      "include_colab_link": true
    },
    "kernelspec": {
      "name": "python3",
      "display_name": "Python 3"
    },
    "language_info": {
      "name": "python"
    }
  },
  "cells": [
    {
      "cell_type": "markdown",
      "metadata": {
        "id": "view-in-github",
        "colab_type": "text"
      },
      "source": [
        "<a href=\"https://colab.research.google.com/github/sijuswamy/Python-for-Datascience/blob/main/1_Numpy_Basics.ipynb\" target=\"_parent\"><img src=\"https://colab.research.google.com/assets/colab-badge.svg\" alt=\"Open In Colab\"/></a>"
      ]
    },
    {
      "cell_type": "markdown",
      "metadata": {
        "id": "Hx3UghDN-CBv"
      },
      "source": [
        "# **`Numpy` Library for Data science**\n",
        "\n",
        "`NumPy` is a commonly used Python data analysis package. By using `NumPy`, you can speed up your workflow, and interface with other packages in the Python ecosystem, like scikit-learn, that use NumPy under the hood. NumPy was originally developed in the mid 2000s, and arose from an even older package called Numeric. This longevity means that almost every data analysis or machine learning package for Python leverages NumPy in some way.\n",
        "\n"
      ]
    },
    {
      "cell_type": "markdown",
      "metadata": {
        "id": "BbVR2F3Bnsai"
      },
      "source": [
        "## What is NumPy for a Python coder?\n",
        "NumPy is a general-purpose array-processing package. It provides a high-performance multidimensional array object, and tools for working with these arrays.\n",
        "\n",
        "It is the fundamental package for scientific computing with Python. It contains various features including these important ones:\n",
        "\n",
        "*  A powerful N-dimensional array object\n",
        "* Sophisticated (broadcasting) functions\n",
        "* Tools for integrating C/C++ and Fortran code\n",
        "* Useful linear algebra, Fourier transform, and random number capabilities\n",
        "* Besides its obvious scientific uses, NumPy can also be used as an efficient multi-dimensional container of generic data.\n",
        "* Arbitrary data-types can be defined using Numpy which allows NumPy to seamlessly and speedily integrate with a wide variety of databases."
      ]
    },
    {
      "cell_type": "markdown",
      "metadata": {
        "id": "3r2qrfez_cUW"
      },
      "source": [
        "## Loading `Nupy` library in python\n",
        "\n",
        "Using `import` method we can load the library in Python with instance as:"
      ]
    },
    {
      "cell_type": "code",
      "metadata": {
        "id": "BT5FqeVw_0sw"
      },
      "source": [
        "import numpy as np"
      ],
      "execution_count": null,
      "outputs": []
    },
    {
      "cell_type": "markdown",
      "metadata": {
        "id": "T_ajM2aNemMS"
      },
      "source": [
        "Note: All the examples discussed below will not run on an online IDE.\n",
        "\n",
        "# 1. Arrays in `NumPy`: \n",
        "`NumPy`’s main object is the homogeneous multidimensional array.\n",
        "\n",
        "* It is a table of elements (usually numbers), all of the same type, indexed by a tuple of positive integers.\n",
        "* In `NumPy` dimensions are called axes. The number of axes is rank.\n",
        "`NumPy`’s array class is called ndarray. It is also known by the alias array.\n",
        "\n",
        "**Example**\n",
        "```\n",
        "[[ 1, 2, 3],\n",
        " [ 4, 2, 5]]\n",
        "Here,\n",
        "rank = 2 (as it is 2-dimensional or it has 2 axes)\n",
        "first dimension(axis) length = 2, second dimension has length = 3\n",
        "overall shape can be expressed as: (2, 3)\n",
        "```\n",
        "\n"
      ]
    },
    {
      "cell_type": "markdown",
      "metadata": {
        "id": "8CLX908FpSpc"
      },
      "source": [
        "## Code example:"
      ]
    },
    {
      "cell_type": "code",
      "metadata": {
        "colab": {
          "base_uri": "https://localhost:8080/"
        },
        "id": "7wvpBoE3pReK",
        "outputId": "e4613534-579b-460a-8c7b-b5afb7a991cd"
      },
      "source": [
        "# Python program to demonstrate \n",
        "# basic array characteristics\n",
        "import numpy as np\n",
        "  \n",
        "# Creating array object\n",
        "arr = np.array( [[ 1, 2, 3],\n",
        "                 [ 4, 2, 5]] )\n",
        "  \n",
        "# Printing type of arr object\n",
        "print(\"Array is of type: \", type(arr))\n",
        "  \n",
        "# Printing array dimensions (axes)\n",
        "print(\"No. of dimensions: \", arr.ndim)\n",
        "  \n",
        "# Printing shape of array\n",
        "print(\"Shape of array: \", arr.shape)\n",
        "  \n",
        "# Printing size (total number of elements) of array\n",
        "print(\"Size of array: \", arr.size)\n",
        "  \n",
        "# Printing type of elements in array\n",
        "print(\"Array stores elements of type: \", arr.dtype)"
      ],
      "execution_count": null,
      "outputs": [
        {
          "output_type": "stream",
          "text": [
            "Array is of type:  <class 'numpy.ndarray'>\n",
            "No. of dimensions:  2\n",
            "Shape of array:  (2, 3)\n",
            "Size of array:  6\n",
            "Array stores elements of type:  <U21\n"
          ],
          "name": "stdout"
        }
      ]
    },
    {
      "cell_type": "markdown",
      "metadata": {
        "id": "511LV2p-p5kM"
      },
      "source": [
        "## 2. Array creation: \n",
        "\n",
        "There are various ways to create arrays in NumPy.\n",
        "\n",
        "* For example, you can create an array from a regular Python list or tuple using the array function. The type of the resulting array is deduced from the type of the elements in the sequences.\n",
        "* Often, the elements of an array are originally unknown, but its size is known. Hence, NumPy offers several functions to create arrays with initial placeholder content. These minimize the necessity of growing arrays, an expensive operation.\n",
        ">For example: np.zeros, np.ones, np.full, np.empty, etc.\n",
        "\n",
        "* To create sequences of numbers, NumPy provides a function analogous to range that returns arrays instead of lists.\n",
        "**arange()**: returns evenly spaced values within a given interval. step size is specified.\n",
        "**linspace()**: returns evenly spaced values within a given interval. num no. of elements are returned.\n",
        "\n",
        "* Reshaping array: We can use reshape method to reshape an array. Consider an array with shape $(a_1, a_2, a_3,\\ldots , a_N)$. We can reshape and convert it into another array with shape $(b_1, b_2, b_3,\\ldots, b_M)$. The only required condition is:\n",
        "$$a_1 \\times a_2 \\times a_3\\times \\ldots \\times a_N = b_1 \\times b_2 \\times b_3\\times \\ldots \\times b_M$$\n",
        "\n",
        "  (i.e original size of array remains unchanged.)\n",
        "  \n",
        "* Flatten array: We can use flatten method to get a copy of array collapsed into one dimension. It accepts order argument. Default value is ‘C’ (for row-major order). Use ‘F’ for column major order.\n",
        "Note: Type of array can be explicitly defined while creating array.\n",
        "\n"
      ]
    },
    {
      "cell_type": "code",
      "metadata": {
        "colab": {
          "base_uri": "https://localhost:8080/"
        },
        "id": "gEUw-lLJtG9p",
        "outputId": "af86339b-5bd4-49c0-db3e-04cbccd79209"
      },
      "source": [
        "# Python program to demonstrate\n",
        "# array creation techniques\n",
        "import numpy as np\n",
        "\n",
        "# Creating array from list with type float\n",
        "a = np.array([[1, 2, 4], [5, 8, 7]], dtype = 'float')\n",
        "print (\"Array created using passed list:\\n\", a)\n",
        "\n",
        "# Creating array from tuple\n",
        "b = np.array((1 , 3, 2))\n",
        "print (\"\\nArray created using passed tuple:\\n\", b)\n",
        "\n",
        "# Creating a 3X4 array with all zeros\n",
        "c = np.zeros((3, 4))\n",
        "print (\"\\nAn array initialized with all zeros:\\n\", c)\n",
        "\n",
        "# Create a constant value array of complex type\n",
        "d = np.full((3, 3), 6, dtype = 'complex')\n",
        "print (\"\\nAn array initialized with all 6s.\"\n",
        "\t\t\t\"Array type is complex:\\n\", d)\n",
        "\n",
        "# Create an array with random values\n",
        "e = np.random.random((2, 2))\n",
        "print (\"\\nA random array:\\n\", e)\n",
        "\n",
        "# Create a sequence of integers\n",
        "# from 0 to 30 with steps of 5\n",
        "f = np.arange(0, 30, 5)\n",
        "print (\"\\nA sequential array with steps of 5:\\n\", f)\n",
        "\n",
        "# Create a sequence of 10 values in range 0 to 5\n",
        "g = np.linspace(0, 5, 10)\n",
        "print (\"\\nA sequential array with 10 values between\"\n",
        "\t\t\t\t\t\t\t\t\t\t\"0 and 5:\\n\", g)\n",
        "\n",
        "# Reshaping 3X4 array to 2X2X3 array\n",
        "arr = np.array([[1, 2, 3, 4],\n",
        "\t\t\t\t[5, 2, 4, 2],\n",
        "\t\t\t\t[1, 2, 0, 1]])\n",
        "\n",
        "newarr = arr.reshape(2, 2, 3)\n",
        "\n",
        "print (\"\\nOriginal array:\\n\", arr)\n",
        "print (\"Reshaped array:\\n\", newarr)\n",
        "\n",
        "# Flatten array\n",
        "arr = np.array([[1, 2, 3], [4, 5, 6]])\n",
        "flarr = arr.flatten()\n",
        "\n",
        "print (\"\\nOriginal array:\\n\", arr)\n",
        "print (\"Fattened array:\\n\", flarr)\n"
      ],
      "execution_count": null,
      "outputs": [
        {
          "output_type": "stream",
          "text": [
            "Array created using passed list:\n",
            " [[1. 2. 4.]\n",
            " [5. 8. 7.]]\n",
            "\n",
            "Array created using passed tuple:\n",
            " [1 3 2]\n",
            "\n",
            "An array initialized with all zeros:\n",
            " [[0. 0. 0. 0.]\n",
            " [0. 0. 0. 0.]\n",
            " [0. 0. 0. 0.]]\n",
            "\n",
            "An array initialized with all 6s.Array type is complex:\n",
            " [[6.+0.j 6.+0.j 6.+0.j]\n",
            " [6.+0.j 6.+0.j 6.+0.j]\n",
            " [6.+0.j 6.+0.j 6.+0.j]]\n",
            "\n",
            "A random array:\n",
            " [[0.44092229 0.43413435]\n",
            " [0.35751754 0.0576922 ]]\n",
            "\n",
            "A sequential array with steps of 5:\n",
            " [ 0  5 10 15 20 25]\n",
            "\n",
            "A sequential array with 10 values between0 and 5:\n",
            " [0.         0.55555556 1.11111111 1.66666667 2.22222222 2.77777778\n",
            " 3.33333333 3.88888889 4.44444444 5.        ]\n",
            "\n",
            "Original array:\n",
            " [[1 2 3 4]\n",
            " [5 2 4 2]\n",
            " [1 2 0 1]]\n",
            "Reshaped array:\n",
            " [[[1 2 3]\n",
            "  [4 5 2]]\n",
            "\n",
            " [[4 2 1]\n",
            "  [2 0 1]]]\n",
            "\n",
            "Original array:\n",
            " [[1 2 3]\n",
            " [4 5 6]]\n",
            "Fattened array:\n",
            " [1 2 3 4 5 6]\n"
          ],
          "name": "stdout"
        }
      ]
    },
    {
      "cell_type": "markdown",
      "metadata": {
        "id": "1HZsdd5utWnV"
      },
      "source": [
        "# Operations on Numpy Arrays\n",
        "\n",
        "1. Array Indexing: Knowing the basics of array indexing is important for analysing and manipulating the array object. NumPy offers many ways to do array indexing.\n",
        "\n",
        "  a. Integer array indexing: In this method, lists are passed for indexing for each dimension. One to one mapping of corresponding elements is done to construct a new arbitrary array.\n",
        "  b. Boolean array indexing: This method is used when we want to pick elements from array which satisfy some condition.\n",
        "\n"
      ]
    },
    {
      "cell_type": "code",
      "metadata": {
        "colab": {
          "base_uri": "https://localhost:8080/"
        },
        "id": "eQ_czyz7t55C",
        "outputId": "194cc3b6-9116-4eff-8c38-6902373d9c87"
      },
      "source": [
        "# picking second element in first row of the array `arr`\n",
        "\n",
        "element=arr[0,1]\n",
        "print(\"Original Array:\",arr)\n",
        "print(\"The second element in first row:\\n\")\n",
        "print(\"Element:\",element)\n",
        "print(\"The second element in first row and third element in second row:\\n\")\n",
        "ele_2=arr[[0,1],[1,2]]\n",
        "print(ele_2)"
      ],
      "execution_count": null,
      "outputs": [
        {
          "output_type": "stream",
          "text": [
            "Original Array: [[1 2 3]\n",
            " [4 5 6]]\n",
            "The second element in first row:\n",
            "\n",
            "Element: 2\n",
            "The second element in first row and third element in second row:\n",
            "\n",
            "[2 6]\n"
          ],
          "name": "stdout"
        }
      ]
    },
    {
      "cell_type": "markdown",
      "metadata": {
        "id": "zo6xZFgMvhpz"
      },
      "source": [
        "2. Slicing: \n",
        "Just like lists in python, NumPy arrays can be sliced. As arrays can be multidimensional, you need to specify a slice for each dimension of the array."
      ]
    },
    {
      "cell_type": "code",
      "metadata": {
        "colab": {
          "base_uri": "https://localhost:8080/"
        },
        "id": "gRaOh5m9vtdz",
        "outputId": "440ec345-233d-4341-83d9-e7b838110241"
      },
      "source": [
        "# Python program to demonstrate\n",
        "# indexing in numpy\n",
        "# An exemplar array\n",
        "arr = np.array([[-1, 2, 0, 4],\n",
        "\t\t\t\t[4, -0.5, 6, 0],\n",
        "\t\t\t\t[2.6, 0, 7, 8],\n",
        "\t\t\t\t[3, -7, 4, 2.0]])\n",
        "\n",
        "# Slicing array\n",
        "temp = arr[:2, ::2]\n",
        "print (\"Array with first 2 rows and alternate\"\n",
        "\t\t\t\t\t\"columns(0 and 2):\\n\", temp)\n",
        "\n",
        "# Integer array indexing example\n",
        "temp = arr[[0, 1, 2, 3], [3, 2, 1, 0]]\n",
        "print (\"\\nElements at indices (0, 3), (1, 2), (2, 1),\"\n",
        "\t\t\t\t\t\t\t\t\t\"(3, 0):\\n\", temp)\n",
        "\n",
        "# boolean array indexing example\n",
        "cond = arr > 0 # cond is a boolean array\n",
        "temp = arr[cond]\n",
        "print (\"\\nElements greater than 0:\\n\", temp)\n"
      ],
      "execution_count": null,
      "outputs": [
        {
          "output_type": "stream",
          "text": [
            "Array with first 2 rows and alternatecolumns(0 and 2):\n",
            " [[-1.  0.]\n",
            " [ 4.  6.]]\n",
            "\n",
            "Elements at indices (0, 3), (1, 2), (2, 1),(3, 0):\n",
            " [4. 6. 0. 3.]\n",
            "\n",
            "Elements greater than 0:\n",
            " [2.  4.  4.  6.  2.6 7.  8.  3.  4.  2. ]\n"
          ],
          "name": "stdout"
        }
      ]
    },
    {
      "cell_type": "markdown",
      "metadata": {
        "id": "UO4CyIDtt0Qp"
      },
      "source": [
        "4. Basic operations: Plethora of built-in arithmetic functions are provided in NumPy.\n",
        "\n",
        "  *Operations on single array:* We can use overloaded arithmetic operators to do element-wise operation on array to create a new array. In case of +=, -=, *= operators, the exsisting array is modified."
      ]
    },
    {
      "cell_type": "code",
      "metadata": {
        "colab": {
          "base_uri": "https://localhost:8080/"
        },
        "id": "OTAxeeK5w_fn",
        "outputId": "83c1380d-e047-41e4-82b2-b31285afbeae"
      },
      "source": [
        "# Python program to demonstrate\n",
        "# basic operations on single array\n",
        " \n",
        "a = np.array([1, 2, 5, 3])\n",
        "  \n",
        "# add 1 to every element\n",
        "print (\"Adding 1 to every element:\", a+1)\n",
        "  \n",
        "# subtract 3 from each element\n",
        "print (\"Subtracting 3 from each element:\", a-3)\n",
        "  \n",
        "# multiply each element by 10\n",
        "print (\"Multiplying each element by 10:\", a*10)\n",
        "  \n",
        "# square each element\n",
        "print (\"Squaring each element:\", a**2)\n",
        "  \n",
        "# modify existing array\n",
        "a *= 2\n",
        "print (\"Doubled each element of original array:\", a)\n",
        "  \n",
        "# transpose of array\n",
        "a = np.array([[1, 2, 3], [3, 4, 5], [9, 6, 0]])\n",
        "  \n",
        "print (\"\\nOriginal array:\\n\", a)\n",
        "print (\"Transpose of array:\\n\", a.T)\n"
      ],
      "execution_count": null,
      "outputs": [
        {
          "output_type": "stream",
          "text": [
            "Adding 1 to every element: [2 3 6 4]\n",
            "Subtracting 3 from each element: [-2 -1  2  0]\n",
            "Multiplying each element by 10: [10 20 50 30]\n",
            "Squaring each element: [ 1  4 25  9]\n",
            "Doubled each element of original array: [ 2  4 10  6]\n",
            "\n",
            "Original array:\n",
            " [[1 2 3]\n",
            " [3 4 5]\n",
            " [9 6 0]]\n",
            "Transpose of array:\n",
            " [[1 3 9]\n",
            " [2 4 6]\n",
            " [3 5 0]]\n"
          ],
          "name": "stdout"
        }
      ]
    },
    {
      "cell_type": "markdown",
      "metadata": {
        "id": "C18q_KH1xK3t"
      },
      "source": [
        "* Unary operators: Many unary operations are provided as a method of ndarray class. This includes sum, min, max, etc. These functions can also be applied row-wise or column-wise by setting an axis parameter."
      ]
    },
    {
      "cell_type": "code",
      "metadata": {
        "colab": {
          "base_uri": "https://localhost:8080/"
        },
        "id": "Jan0c68WxQHB",
        "outputId": "74c8dece-439f-48de-851b-c6491b08d68b"
      },
      "source": [
        "# Python program to demonstrate\n",
        "# unary operators in numpy\n",
        "arr = np.array([[1, 5, 6],\n",
        "\t\t\t\t[4, 7, 2],\n",
        "\t\t\t\t[3, 1, 9]])\n",
        "\n",
        "# maximum element of array\n",
        "print (\"Largest element is:\", arr.max())\n",
        "print (\"Row-wise maximum elements:\",\n",
        "\t\t\t\t\tarr.max(axis = 1))\n",
        "\n",
        "# minimum element of array\n",
        "print (\"Column-wise minimum elements:\",\n",
        "\t\t\t\t\t\tarr.min(axis = 0))\n",
        "\n",
        "# sum of array elements\n",
        "print (\"Sum of all array elements:\",\n",
        "\t\t\t\t\t\t\tarr.sum())\n",
        "\n",
        "# cumulative sum along each row\n",
        "print (\"Cumulative sum along each row:\\n\",\n",
        "\t\t\t\t\t\tarr.cumsum(axis = 1))\n"
      ],
      "execution_count": null,
      "outputs": [
        {
          "output_type": "stream",
          "text": [
            "Largest element is: 9\n",
            "Row-wise maximum elements: [6 7 9]\n",
            "Column-wise minimum elements: [1 1 2]\n",
            "Sum of all array elements: 38\n",
            "Cumulative sum along each row:\n",
            " [[ 1  6 12]\n",
            " [ 4 11 13]\n",
            " [ 3  4 13]]\n"
          ],
          "name": "stdout"
        }
      ]
    },
    {
      "cell_type": "markdown",
      "metadata": {
        "id": "92gg6uKDxW9u"
      },
      "source": [
        "* Binary operators: These operations apply on array elementwise and a new array is created. You can use all basic arithmetic operators like +, -, /, , etc. In case of +=, -=, = operators, the exsisting array is modified."
      ]
    },
    {
      "cell_type": "code",
      "metadata": {
        "colab": {
          "base_uri": "https://localhost:8080/"
        },
        "id": "d7M3WICXxg4M",
        "outputId": "f2c31b16-56da-4a3f-c920-b9a4a1e912e3"
      },
      "source": [
        "# Python program to demonstrate\n",
        "# binary operators in Numpy\n",
        "a = np.array([[1, 2],\n",
        "\t\t\t[3, 4]])\n",
        "b = np.array([[4, 3],\n",
        "\t\t\t[2, 1]])\n",
        "\n",
        "# add arrays\n",
        "print (\"Array sum:\\n\", a + b)\n",
        "\n",
        "# multiply arrays (elementwise multiplication)\n",
        "print (\"Array multiplication:\\n\", a*b)\n",
        "\n",
        "# matrix multiplication\n",
        "print (\"Matrix multiplication:\\n\", a.dot(b))\n"
      ],
      "execution_count": null,
      "outputs": [
        {
          "output_type": "stream",
          "text": [
            "Array sum:\n",
            " [[5 5]\n",
            " [5 5]]\n",
            "Array multiplication:\n",
            " [[4 6]\n",
            " [6 4]]\n",
            "Matrix multiplication:\n",
            " [[ 8  5]\n",
            " [20 13]]\n"
          ],
          "name": "stdout"
        }
      ]
    },
    {
      "cell_type": "markdown",
      "metadata": {
        "id": "4_xrktGXxtuP"
      },
      "source": [
        "* *Universal functions (ufunc):* `NumPy` provides familiar mathematical functions such as $\\sin, \\cos, \\exp$, etc. These functions also operate elementwise on an array, producing an array as output.\n",
        "\n",
        ">Note: All the operations we did above using overloaded operators can be done using ufuncs like `np.add, np.subtract, np.multiply, np.divide, np.sum`, etc.\n",
        "\n"
      ]
    },
    {
      "cell_type": "code",
      "metadata": {
        "colab": {
          "base_uri": "https://localhost:8080/"
        },
        "id": "tQfNBXxhxsi0",
        "outputId": "f717dc3f-a7aa-4bba-8600-83142a0dd40f"
      },
      "source": [
        "# Python program to demonstrate\n",
        "# universal functions in numpy\n",
        "# create an array of sine values\n",
        "a = np.array([0, np.pi/2, np.pi])\n",
        "print (\"Sine values of array elements:\", np.sin(a))\n",
        "\n",
        "# exponential values\n",
        "a = np.array([0, 1, 2, 3])\n",
        "print (\"Exponent of array elements:\", np.exp(a))\n",
        "\n",
        "# square root of array values\n",
        "print (\"Square root of array elements:\", np.sqrt(a))\n"
      ],
      "execution_count": null,
      "outputs": [
        {
          "output_type": "stream",
          "text": [
            "Sine values of array elements: [0.0000000e+00 1.0000000e+00 1.2246468e-16]\n",
            "Exponent of array elements: [ 1.          2.71828183  7.3890561  20.08553692]\n",
            "Square root of array elements: [0.         1.         1.41421356 1.73205081]\n"
          ],
          "name": "stdout"
        }
      ]
    },
    {
      "cell_type": "markdown",
      "metadata": {
        "id": "jbeJ8Agix-KE"
      },
      "source": [
        "5. Sorting array: There is a simple `np.sort` method for sorting `NumPy` arrays. Let’s explore it a bit."
      ]
    },
    {
      "cell_type": "code",
      "metadata": {
        "colab": {
          "base_uri": "https://localhost:8080/"
        },
        "id": "LpsTrDgvyRL2",
        "outputId": "04b0ebcc-fb22-420e-f400-8c1ca434c8f2"
      },
      "source": [
        "# Python program to demonstrate sorting in numpy\n",
        "a = np.array([[1, 4, 2],\n",
        "\t\t\t\t[3, 4, 6],\n",
        "\t\t\t[0, -1, 5]])\n",
        "\n",
        "# sorted array\n",
        "print (\"Array elements in sorted order:\\n\",\n",
        "\t\t\t\t\tnp.sort(a, axis = None))\n",
        "\n",
        "# sort array row-wise\n",
        "print (\"Row-wise sorted array:\\n\",\n",
        "\t\t\t\tnp.sort(a, axis = 1))\n",
        "\n",
        "# specify sort algorithm\n",
        "print (\"Column wise sort by applying merge-sort:\\n\",\n",
        "\t\t\tnp.sort(a, axis = 0, kind = 'mergesort'))\n",
        "\n",
        "# Example to show sorting of structured array\n",
        "# set alias names for dtypes\n",
        "dtypes = [('name', 'S10'), ('grad_year', int), ('cgpa', float)]\n",
        "\n",
        "# Values to be put in array\n",
        "values = [('Hrithik', 2009, 8.5), ('Ajay', 2008, 8.7),\n",
        "\t\t('Pankaj', 2008, 7.9), ('Aakash', 2009, 9.0)]\n",
        "\t\t\t\n",
        "# Creating array\n",
        "arr = np.array(values, dtype = dtypes)\n",
        "print (\"\\nArray sorted by names:\\n\",\n",
        "\t\t\tnp.sort(arr, order = 'name'))\n",
        "\t\t\t\n",
        "print (\"Array sorted by grauation year and then cgpa:\\n\",\n",
        "\t\t\t\tnp.sort(arr, order = ['grad_year', 'cgpa']))\n"
      ],
      "execution_count": null,
      "outputs": [
        {
          "output_type": "stream",
          "text": [
            "Array elements in sorted order:\n",
            " [-1  0  1  2  3  4  4  5  6]\n",
            "Row-wise sorted array:\n",
            " [[ 1  2  4]\n",
            " [ 3  4  6]\n",
            " [-1  0  5]]\n",
            "Column wise sort by applying merge-sort:\n",
            " [[ 0 -1  2]\n",
            " [ 1  4  5]\n",
            " [ 3  4  6]]\n",
            "\n",
            "Array sorted by names:\n",
            " [(b'Aakash', 2009, 9. ) (b'Ajay', 2008, 8.7) (b'Hrithik', 2009, 8.5)\n",
            " (b'Pankaj', 2008, 7.9)]\n",
            "Array sorted by grauation year and then cgpa:\n",
            " [(b'Pankaj', 2008, 7.9) (b'Ajay', 2008, 8.7) (b'Hrithik', 2009, 8.5)\n",
            " (b'Aakash', 2009, 9. )]\n"
          ],
          "name": "stdout"
        }
      ]
    },
    {
      "cell_type": "markdown",
      "metadata": {
        "id": "Tu7VmoodynQH"
      },
      "source": [
        "## Advanced operations on `Numpy` arrays\n",
        "\n",
        "Now let's discusses some more and a bit advanced methods available in `NumPy`.\n",
        "\n",
        "> **Stacking:** Several arrays can be stacked together along different axes.\n",
        "1. np.vstack: To stack arrays along vertical axis.\n",
        "2. np.hstack: To stack arrays along horizontal axis.\n",
        "3. np.column_stack: To stack 1-D arrays as columns into 2-D arrays.\n",
        "4. np.concatenate: To stack arrays along specified axis (axis is passed as argument)."
      ]
    },
    {
      "cell_type": "code",
      "metadata": {
        "colab": {
          "base_uri": "https://localhost:8080/"
        },
        "id": "_dZwtBE7zKyy",
        "outputId": "e6474dda-5673-426a-af90-69416933317c"
      },
      "source": [
        "a = np.array([[1, 2],\n",
        "\t\t\t[3, 4]])\n",
        "\n",
        "b = np.array([[5, 6],\n",
        "\t\t\t[7, 8]])\n",
        "\n",
        "# vertical stacking\n",
        "print(\"Vertical stacking:\\n\", np.vstack((a, b)))\n",
        "\n",
        "# horizontal stacking\n",
        "print(\"\\nHorizontal stacking:\\n\", np.hstack((a, b)))\n",
        "\n",
        "c = [5, 6]\n",
        "\n",
        "# stacking columns\n",
        "print(\"\\nColumn stacking:\\n\", np.column_stack((a, c)))\n",
        "\n",
        "# concatenation method\n",
        "print(\"\\nConcatenating to 2nd axis:\\n\", np.concatenate((a, b), 1))\n"
      ],
      "execution_count": null,
      "outputs": [
        {
          "output_type": "stream",
          "text": [
            "Vertical stacking:\n",
            " [[1 2]\n",
            " [3 4]\n",
            " [5 6]\n",
            " [7 8]]\n",
            "\n",
            "Horizontal stacking:\n",
            " [[1 2 5 6]\n",
            " [3 4 7 8]]\n",
            "\n",
            "Column stacking:\n",
            " [[1 2 5]\n",
            " [3 4 6]]\n",
            "\n",
            "Concatenating to 2nd axis:\n",
            " [[1 2 5 6]\n",
            " [3 4 7 8]]\n"
          ],
          "name": "stdout"
        }
      ]
    },
    {
      "cell_type": "markdown",
      "metadata": {
        "id": "EQOBb1h4zOlA"
      },
      "source": [
        ">**Splitting:**For splitting, we have these functions:\n",
        "1. `np.hsplit`: Split array along horizontal axis.\n",
        "2. `np.vsplit`: Split array along vertical axis.\n",
        "3. `np.array_split`: Split array along specified axis.\n"
      ]
    },
    {
      "cell_type": "code",
      "metadata": {
        "colab": {
          "base_uri": "https://localhost:8080/"
        },
        "id": "yFTNaRmZzjBa",
        "outputId": "f4e88e31-2ad2-4fb1-8b9c-1e5a759b3223"
      },
      "source": [
        "a = np.array([[1, 3, 5, 7, 9, 11],\n",
        "\t\t\t[2, 4, 6, 8, 10, 12]])\n",
        "\n",
        "# horizontal splitting\n",
        "print(\"Splitting along horizontal axis into 2 parts:\\n\", np.hsplit(a, 2))\n",
        "\n",
        "# vertical splitting\n",
        "print(\"\\nSplitting along vertical axis into 2 parts:\\n\", np.vsplit(a, 2))\n"
      ],
      "execution_count": null,
      "outputs": [
        {
          "output_type": "stream",
          "text": [
            "Splitting along horizontal axis into 2 parts:\n",
            " [array([[1, 3, 5],\n",
            "       [2, 4, 6]]), array([[ 7,  9, 11],\n",
            "       [ 8, 10, 12]])]\n",
            "\n",
            "Splitting along vertical axis into 2 parts:\n",
            " [array([[ 1,  3,  5,  7,  9, 11]]), array([[ 2,  4,  6,  8, 10, 12]])]\n"
          ],
          "name": "stdout"
        }
      ]
    },
    {
      "cell_type": "markdown",
      "metadata": {
        "id": "w90hKU3A0FUE"
      },
      "source": [
        "**Broadcasting:** The term broadcasting describes how `NumPy` treats arrays with different shapes during arithmetic operations. Subject to certain constraints, the smaller array is “broadcast” across the larger array so that they have compatible shapes.\n",
        "Broadcasting provides a means of vectorizing array operations so that looping occurs in C instead of Python. It does this without making needless copies of data and usually leads to efficient algorithm implementations. There are also cases where broadcasting is a bad idea because it leads to inefficient use of memory that slows computation.\n",
        "\n",
        "NumPy operations are usually done element-by-element which requires two arrays to have exactly the same shape. Numpy’s broadcasting rule relaxes this constraint when the arrays’ shapes meet certain constraints.\n",
        "\n",
        "The Broadcasting Rule: In order to broadcast, the size of the trailing axes for both arrays in an operation must either be the same size or one of them must be one.\n",
        "\n",
        "Let us see some examples:\n",
        "\n",
        "A(2-D array): 4 x 3\n",
        "\n",
        "B(1-D array):     3\n",
        "\n",
        "Result      : 4 x 3\n",
        "\n",
        "A(4-D array): 7 x 1 x 6 x 1\n",
        "\n",
        "B(3-D array):     3 x 1 x 5\n",
        "\n",
        "Result      : 7 x 3 x 6 x 5\n",
        "\n",
        "But this would be a mismatch:\n",
        "\n",
        "A: 4 x 3\n",
        "\n",
        "B:     4\n",
        "\n",
        "The simplest broadcasting example occurs when an array and a scalar value are combined in an operation.\n",
        "Consider the example given below:\n",
        "\n"
      ]
    },
    {
      "cell_type": "code",
      "metadata": {
        "colab": {
          "base_uri": "https://localhost:8080/"
        },
        "id": "gSaCsoAD0S6L",
        "outputId": "a769c442-1085-4fff-8e9f-d49764d5a476"
      },
      "source": [
        "a = np.array([1.0, 2.0, 3.0])\n",
        "\n",
        "# Example 1\n",
        "b = 2.0\n",
        "print(a * b)\n",
        "\n",
        "# Example 2\n",
        "c = [2.0, 2.0, 2.0]\n",
        "print(a * c)\n"
      ],
      "execution_count": null,
      "outputs": [
        {
          "output_type": "stream",
          "text": [
            "[2. 4. 6.]\n",
            "[2. 4. 6.]\n"
          ],
          "name": "stdout"
        }
      ]
    },
    {
      "cell_type": "markdown",
      "metadata": {
        "id": "Rst97YV81QR6"
      },
      "source": [
        "We can think of the scalar `b` being stretched during the arithmetic operation into an array with the same shape as `a`. The new elements in `b`, as shown in above figure, are simply copies of the original scalar. Although, the stretching analogy is only conceptual.\n",
        "\n",
        "`Numpy` is smart enough to use the original scalar value without actually making copies so that broadcasting operations are as memory and computationally efficient as possible. Because Example 1 moves less memory, (`b` is a scalar, not an array) around during the multiplication, it is about 10% faster than Example 2 using the standard `Numpy` on Windows 2000 with one million element arrays!\n"
      ]
    },
    {
      "cell_type": "markdown",
      "metadata": {
        "id": "CZdHIOgn1w_A"
      },
      "source": [
        "In above example, the scalar b is stretched to become an array of with the same shape as a so the shapes are compatible for element-by-element multiplication.\n",
        "\n",
        "Now, let us see an example where both arrays get stretched."
      ]
    },
    {
      "cell_type": "code",
      "metadata": {
        "colab": {
          "base_uri": "https://localhost:8080/"
        },
        "id": "DIjx5XAi16lw",
        "outputId": "b796f4e7-6b8d-4dbf-c652-2477dee957d1"
      },
      "source": [
        "a = np.array([0.0, 10.0, 20.0, 30.0])\n",
        "b = np.array([0.0, 1.0, 2.0])\n",
        "\n",
        "print(a[:, np.newaxis] + b)\n"
      ],
      "execution_count": null,
      "outputs": [
        {
          "output_type": "stream",
          "text": [
            "[[ 0.  1.  2.]\n",
            " [10. 11. 12.]\n",
            " [20. 21. 22.]\n",
            " [30. 31. 32.]]\n"
          ],
          "name": "stdout"
        }
      ]
    },
    {
      "cell_type": "markdown",
      "metadata": {
        "id": "D8jOTy-02eBd"
      },
      "source": [
        " This operation can be shown in the following Figure\n",
        "\n",
        "![](https://media.geeksforgeeks.org/wp-content/uploads/numpy2.png)\n",
        "\n",
        "In some cases, broadcasting stretches both arrays to form an output array larger than either of the initial arrays.\n",
        "\n",
        "**Working with datetime:** Numpy has core array data types which natively support datetime functionality. The data type is called “datetime64”, so named because “datetime” is already taken by the datetime library included in Python.\n",
        "Consider the example below for some examples:"
      ]
    },
    {
      "cell_type": "code",
      "metadata": {
        "colab": {
          "base_uri": "https://localhost:8080/"
        },
        "id": "AfoYsT_-27VN",
        "outputId": "b0c0ed6c-7950-4dea-e467-c84f2f4afc80"
      },
      "source": [
        "# creating a date\n",
        "today = np.datetime64('2017-02-12')\n",
        "print(\"Date is:\", today)\n",
        "print(\"Year is:\", np.datetime64(today, 'Y'))\n",
        "\n",
        "# creating array of dates in a month\n",
        "dates = np.arange('2017-02', '2017-03', dtype='datetime64[D]')\n",
        "print(\"\\nDates of February, 2017:\\n\", dates)\n",
        "print(\"Today is February:\", today in dates)\n",
        "\n",
        "# arithmetic operation on dates\n",
        "dur = np.datetime64('2017-05-22') - np.datetime64('2016-05-22')\n",
        "print(\"\\nNo. of days:\", dur)\n",
        "print(\"No. of weeks:\", np.timedelta64(dur, 'W'))\n",
        "\n",
        "# sorting dates\n",
        "a = np.array(['2017-02-12', '2016-10-13', '2019-05-22'], dtype='datetime64')\n",
        "print(\"\\nDates in sorted order:\", np.sort(a))\n"
      ],
      "execution_count": null,
      "outputs": [
        {
          "output_type": "stream",
          "text": [
            "Date is: 2017-02-12\n",
            "Year is: 2017\n",
            "\n",
            "Dates of February, 2017:\n",
            " ['2017-02-01' '2017-02-02' '2017-02-03' '2017-02-04' '2017-02-05'\n",
            " '2017-02-06' '2017-02-07' '2017-02-08' '2017-02-09' '2017-02-10'\n",
            " '2017-02-11' '2017-02-12' '2017-02-13' '2017-02-14' '2017-02-15'\n",
            " '2017-02-16' '2017-02-17' '2017-02-18' '2017-02-19' '2017-02-20'\n",
            " '2017-02-21' '2017-02-22' '2017-02-23' '2017-02-24' '2017-02-25'\n",
            " '2017-02-26' '2017-02-27' '2017-02-28']\n",
            "Today is February: True\n",
            "\n",
            "No. of days: 365 days\n",
            "No. of weeks: 52 weeks\n",
            "\n",
            "Dates in sorted order: ['2016-10-13' '2017-02-12' '2019-05-22']\n"
          ],
          "name": "stdout"
        }
      ]
    }
  ]
}